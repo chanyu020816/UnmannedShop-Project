{
 "cells": [
  {
   "cell_type": "code",
   "execution_count": 1,
   "id": "6e2cb8d0-0f9c-446c-93ca-1aeaa8add752",
   "metadata": {},
   "outputs": [],
   "source": [
    "import cv2"
   ]
  },
  {
   "cell_type": "code",
   "execution_count": 2,
   "id": "634c8a84-37ca-4671-90d3-19584decfb08",
   "metadata": {},
   "outputs": [],
   "source": [
    "import pickle"
   ]
  },
  {
   "cell_type": "code",
   "execution_count": null,
   "id": "6ecdb4d3-570a-4a7c-b680-b23c4142014f",
   "metadata": {},
   "outputs": [],
   "source": []
  },
  {
   "cell_type": "code",
   "execution_count": null,
   "id": "bab30ec0-738e-46b9-a153-bc043d5a6641",
   "metadata": {},
   "outputs": [],
   "source": []
  },
  {
   "cell_type": "code",
   "execution_count": 8,
   "id": "8edaece1-cb4e-4d7d-9974-6e649ecca425",
   "metadata": {},
   "outputs": [],
   "source": [
    "file = open(\"./EncodeFile.p\", \"rb\")"
   ]
  },
  {
   "cell_type": "code",
   "execution_count": 9,
   "id": "7440820d-a00b-41a9-a3f5-ccf357ce1df9",
   "metadata": {},
   "outputs": [],
   "source": [
    "encodeListwithIDs = pickle.load(file)"
   ]
  },
  {
   "cell_type": "code",
   "execution_count": 10,
   "id": "c6a0bf0a-9bd4-4f9e-9513-4341fc343430",
   "metadata": {},
   "outputs": [],
   "source": [
    "file.close()"
   ]
  },
  {
   "cell_type": "code",
   "execution_count": 11,
   "id": "0e8748c8-2801-4850-a584-7939c1ee245c",
   "metadata": {},
   "outputs": [],
   "source": [
    "encodeListKnow, IDs = encodeListwithIDs"
   ]
  },
  {
   "cell_type": "code",
   "execution_count": null,
   "id": "619da823-9fae-4f92-ac19-3fb9a0b8ac1d",
   "metadata": {},
   "outputs": [],
   "source": []
  },
  {
   "cell_type": "code",
   "execution_count": 2,
   "id": "2c001260-7a92-43d4-b617-314b931c139e",
   "metadata": {},
   "outputs": [
    {
     "data": {
      "text/plain": [
       "True"
      ]
     },
     "execution_count": 2,
     "metadata": {},
     "output_type": "execute_result"
    }
   ],
   "source": [
    "cap = cv2.VideoCapture(0)\n",
    "cap.set(3, 640)\n",
    "cap.set(4, 480)"
   ]
  },
  {
   "cell_type": "code",
   "execution_count": 3,
   "id": "6b400ef9-cfa1-4811-b7b7-28c083a7776d",
   "metadata": {},
   "outputs": [],
   "source": [
    "while True:\n",
    "    success, img = cap.read()\n",
    "    \n",
    "    imgS = cv2.resize(img, (0, 0), None, 0.25, 0.25)\n",
    "    imgS = cv2.cvtColor(imgS, cv2.COLOR_BGR2RGB)\n",
    "    \n",
    "    faceCurFrame = face_recognition.\n",
    "    cv2.imshow(\"Webcam\", img)\n",
    "    if cv2.waitKey(1) & 0xFF == ord('q'):\n",
    "        break"
   ]
  },
  {
   "cell_type": "code",
   "execution_count": null,
   "id": "a287152a-84a7-41d3-bc7e-1ed047cfe9f5",
   "metadata": {},
   "outputs": [],
   "source": []
  }
 ],
 "metadata": {
  "kernelspec": {
   "display_name": "Python 3 (ipykernel)",
   "language": "python",
   "name": "python3"
  },
  "language_info": {
   "codemirror_mode": {
    "name": "ipython",
    "version": 3
   },
   "file_extension": ".py",
   "mimetype": "text/x-python",
   "name": "python",
   "nbconvert_exporter": "python",
   "pygments_lexer": "ipython3",
   "version": "3.10.8"
  }
 },
 "nbformat": 4,
 "nbformat_minor": 5
}
