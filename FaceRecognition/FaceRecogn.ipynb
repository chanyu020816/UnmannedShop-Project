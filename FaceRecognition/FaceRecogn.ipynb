{
 "cells": [
  {
   "cell_type": "code",
   "execution_count": 1,
   "id": "08006e28-8d57-4e67-98f5-529ea6506a13",
   "metadata": {},
   "outputs": [],
   "source": [
    "import cv2"
   ]
  },
  {
   "cell_type": "code",
   "execution_count": 15,
   "id": "b3a32c0b-4be8-4a45-9819-f79185e4538d",
   "metadata": {},
   "outputs": [],
   "source": [
    "import face_recognition"
   ]
  },
  {
   "cell_type": "code",
   "execution_count": 2,
   "id": "72d32918-0fe5-40bd-878e-b6171ba006cd",
   "metadata": {},
   "outputs": [],
   "source": [
    "import pickle"
   ]
  },
  {
   "cell_type": "code",
   "execution_count": 4,
   "id": "0bcb1d94-2bac-42bb-af1b-0911896f94e6",
   "metadata": {},
   "outputs": [],
   "source": [
    "import os"
   ]
  },
  {
   "cell_type": "code",
   "execution_count": null,
   "id": "cee98a21-f0ea-4d92-b167-75a5f917b655",
   "metadata": {},
   "outputs": [],
   "source": []
  },
  {
   "cell_type": "code",
   "execution_count": null,
   "id": "d4e193bb-4eb5-4f8b-87b3-b0d75bd68570",
   "metadata": {},
   "outputs": [],
   "source": []
  },
  {
   "cell_type": "code",
   "execution_count": null,
   "id": "fd802c1f-4944-41fc-8b3d-84acaa9a19d5",
   "metadata": {},
   "outputs": [],
   "source": []
  },
  {
   "cell_type": "code",
   "execution_count": 6,
   "id": "4cdc3a7e-eb68-45a8-a3a5-bcdb3bba880f",
   "metadata": {},
   "outputs": [
    {
     "data": {
      "text/plain": [
       "['Chanyu.jpg', 'GilbertStrang.jpg']"
      ]
     },
     "execution_count": 6,
     "metadata": {},
     "output_type": "execute_result"
    }
   ],
   "source": [
    "os.listdir(folderpath)"
   ]
  },
  {
   "cell_type": "code",
   "execution_count": 3,
   "id": "2b59f935-0502-4735-a911-be8573e4be52",
   "metadata": {},
   "outputs": [],
   "source": [
    "folderpath = \"./images\""
   ]
  },
  {
   "cell_type": "code",
   "execution_count": 25,
   "id": "cdc82cf5-ca44-444c-a055-ceb613ac9860",
   "metadata": {},
   "outputs": [],
   "source": [
    "imgList = []"
   ]
  },
  {
   "cell_type": "code",
   "execution_count": 26,
   "id": "86fc6b3f-26c9-4eef-9abf-4f99a7faa6ed",
   "metadata": {},
   "outputs": [],
   "source": [
    "imgID = []"
   ]
  },
  {
   "cell_type": "code",
   "execution_count": 27,
   "id": "8688e54a-5f62-42b6-9824-184a832448f0",
   "metadata": {},
   "outputs": [],
   "source": [
    "for path in os.listdir(folderpath):\n",
    "    imgList.append(cv2.imread(os.path.join(folderpath, path)))\n",
    "    imgID.append(os.path.splitext(path)[0])"
   ]
  },
  {
   "cell_type": "code",
   "execution_count": 19,
   "id": "9a983690-b2fd-4f3c-927e-2a849a24f93a",
   "metadata": {},
   "outputs": [
    {
     "data": {
      "text/plain": [
       "['Chanyu', 'GilbertStrang']"
      ]
     },
     "execution_count": 19,
     "metadata": {},
     "output_type": "execute_result"
    }
   ],
   "source": []
  },
  {
   "cell_type": "code",
   "execution_count": 28,
   "id": "c9bdc7a2-8f78-46ea-b653-08b2294aa690",
   "metadata": {
    "tags": []
   },
   "outputs": [],
   "source": [
    "def findEncoding(imagesList):\n",
    "    encodeList = []\n",
    "    for img in imagesList:\n",
    "        img = cv2.cvtColor(img, cv2.COLOR_BGR2RGB)\n",
    "        encode = face_recognition.face_encodings(img)[0]\n",
    "        encodeList.append(encode)\n",
    "        \n",
    "    return encodeList"
   ]
  },
  {
   "cell_type": "code",
   "execution_count": 29,
   "id": "d14800cd-5828-4594-882d-08494107b8ba",
   "metadata": {},
   "outputs": [],
   "source": [
    "encodeListKnown = findEncoding(imgList)"
   ]
  },
  {
   "cell_type": "code",
   "execution_count": 31,
   "id": "1f59315a-41c3-4696-b6d7-5a6d01549b8b",
   "metadata": {},
   "outputs": [],
   "source": [
    "encodeListKnowWithIds = [encodeListKnown, imgID]"
   ]
  },
  {
   "cell_type": "code",
   "execution_count": 33,
   "id": "502fa807-b6f7-46f3-a45f-fc376273e8e3",
   "metadata": {},
   "outputs": [],
   "source": [
    "file = open(\"EncodeFile.p\", \"wb\")"
   ]
  },
  {
   "cell_type": "code",
   "execution_count": 34,
   "id": "b326c576-09ba-496c-aa71-bab307411ce8",
   "metadata": {},
   "outputs": [],
   "source": [
    "pickle.dump(encodeListKnowWithIds, file)"
   ]
  },
  {
   "cell_type": "code",
   "execution_count": 35,
   "id": "713ea1e2-cb9f-4f25-94be-b7ef8fa2ad9c",
   "metadata": {},
   "outputs": [],
   "source": [
    "file.close()"
   ]
  },
  {
   "cell_type": "code",
   "execution_count": null,
   "id": "afa3bb4e-e35e-4cf8-9775-1117389fbd06",
   "metadata": {},
   "outputs": [],
   "source": []
  },
  {
   "cell_type": "code",
   "execution_count": 37,
   "id": "5b6b0989-cc6c-46b1-ab70-9b691362fb00",
   "metadata": {},
   "outputs": [
    {
     "data": {
      "text/plain": [
       "[array([-0.0746323 ,  0.12628809,  0.04082222, -0.06044814, -0.16629979,\n",
       "        -0.00097676, -0.11873136, -0.10813891,  0.11390392, -0.0915722 ,\n",
       "         0.25346708, -0.02323983, -0.23001294, -0.06559925, -0.01632553,\n",
       "         0.18579246, -0.10466006, -0.15957101, -0.01407386, -0.00100569,\n",
       "         0.06694584,  0.01615137,  0.005792  ,  0.06107947, -0.16543181,\n",
       "        -0.33651879, -0.12301553, -0.04117753, -0.07429329, -0.0700853 ,\n",
       "        -0.06401763,  0.02200794, -0.17553127, -0.05374038,  0.04323522,\n",
       "         0.06447159, -0.005351  , -0.10054204,  0.16531762, -0.02487043,\n",
       "        -0.23179378,  0.09262541,  0.10034028,  0.21349503,  0.18309572,\n",
       "         0.03076571,  0.06133917, -0.13827744,  0.09596578, -0.10653292,\n",
       "         0.0471369 ,  0.13235365,  0.07812781,  0.03632756, -0.03283187,\n",
       "        -0.13121861, -0.01116258,  0.1351606 , -0.14619802, -0.02442218,\n",
       "         0.07312068, -0.02494555, -0.04083393, -0.12202241,  0.20207396,\n",
       "         0.09018643, -0.12830076, -0.21269897,  0.10824545, -0.12562194,\n",
       "        -0.12537944,  0.04761718, -0.21303087, -0.2023823 , -0.32365128,\n",
       "         0.07381429,  0.37304839,  0.10481512, -0.19991466,  0.04181323,\n",
       "         0.01019402,  0.0051843 ,  0.05133292,  0.10696309, -0.00078492,\n",
       "        -0.02786246, -0.08965731,  0.05245018,  0.28261429, -0.05322652,\n",
       "        -0.03661817,  0.19891167,  0.02697164,  0.08751371,  0.02187327,\n",
       "         0.10738222, -0.0615034 ,  0.06375457, -0.14613666,  0.05497732,\n",
       "         0.02049118, -0.00864367, -0.00973691,  0.13991812, -0.13828664,\n",
       "         0.11234701,  0.00551581,  0.00613316, -0.04112985,  0.05345084,\n",
       "        -0.14804922, -0.08002114,  0.12293759, -0.20835951,  0.19480258,\n",
       "         0.16393562,  0.09362271,  0.09758471,  0.15915045,  0.0804143 ,\n",
       "         0.01730241, -0.0113894 , -0.21234673, -0.06066278,  0.12107436,\n",
       "        -0.03908864,  0.13127318,  0.05006398]),\n",
       " array([-2.10739076e-02,  8.16452354e-02,  4.79626395e-02,  5.04126847e-02,\n",
       "        -6.39388114e-02, -2.28596479e-02, -2.89820507e-02, -1.02965221e-01,\n",
       "         1.11080691e-01, -1.25493035e-01,  2.10282415e-01, -5.52331507e-02,\n",
       "        -2.58640230e-01, -3.15991119e-02,  5.12269251e-02,  1.28320068e-01,\n",
       "        -2.04780847e-01, -1.30356401e-02, -1.44127458e-01, -4.40211222e-02,\n",
       "        -1.49264932e-04,  3.47541720e-02,  5.28860167e-02, -5.04126549e-02,\n",
       "        -1.48194134e-01, -2.88672924e-01, -4.43011522e-03, -8.60846415e-02,\n",
       "         5.90050295e-02, -3.52580547e-02,  1.21807475e-02,  7.77810812e-04,\n",
       "        -2.39402726e-01, -7.69842938e-02,  6.88471645e-03,  7.19784796e-02,\n",
       "        -2.41466016e-02, -2.95107365e-02,  1.92095757e-01,  7.43874721e-03,\n",
       "        -1.97940573e-01,  4.20685410e-02, -1.71221793e-04,  1.77850217e-01,\n",
       "         2.12701082e-01, -1.54647641e-02, -9.62491892e-03, -4.40356433e-02,\n",
       "         1.50888905e-01, -3.00239950e-01,  2.89852656e-02,  6.63591921e-02,\n",
       "         1.32023230e-01,  1.14236742e-01,  4.16757837e-02, -1.65902376e-01,\n",
       "         1.02972686e-02,  1.61938429e-01, -1.56540841e-01,  8.44717175e-02,\n",
       "         9.40382034e-02, -1.06043644e-01,  6.63658977e-02,  1.60135254e-02,\n",
       "         1.32093802e-01,  1.93182789e-02, -7.11018965e-02, -9.95139033e-02,\n",
       "         1.06487505e-01, -1.48319110e-01, -2.56474670e-02,  5.61262593e-02,\n",
       "        -3.95837799e-02, -1.63085550e-01, -3.71069610e-01,  2.17688978e-02,\n",
       "         3.30442071e-01,  1.49973691e-01, -1.86166734e-01, -7.45320022e-02,\n",
       "        -8.27193186e-02, -3.83704789e-02,  1.80465356e-02,  4.58827615e-02,\n",
       "         1.97978020e-02, -5.42553887e-02, -7.20874220e-02,  2.01456249e-02,\n",
       "         2.23723605e-01, -5.97972348e-02, -1.51089560e-02,  2.65248418e-01,\n",
       "        -3.02123316e-02, -2.26407424e-02, -1.65126007e-02,  2.58712098e-02,\n",
       "        -1.56174362e-01, -5.84780574e-02, -8.44487101e-02, -3.82522494e-02,\n",
       "         3.13836336e-02, -1.70472473e-01,  3.14985216e-02,  1.27971634e-01,\n",
       "        -2.61726230e-01,  2.14066714e-01, -7.73880109e-02, -2.44573522e-02,\n",
       "         6.13131076e-02,  2.84764618e-02, -3.36885229e-02,  3.71260196e-02,\n",
       "         1.90383792e-01, -2.02986091e-01,  2.63720989e-01,  2.22211629e-01,\n",
       "         6.45851158e-03,  1.50308132e-01,  1.63451955e-02,  6.55157119e-02,\n",
       "        -5.29863983e-02,  6.34223893e-02, -1.47616476e-01, -1.80454761e-01,\n",
       "        -6.29832447e-02,  8.42114538e-03,  4.74335402e-02,  5.70501164e-02])]"
      ]
     },
     "execution_count": 37,
     "metadata": {},
     "output_type": "execute_result"
    }
   ],
   "source": [
    "encodeListKnown"
   ]
  },
  {
   "cell_type": "code",
   "execution_count": null,
   "id": "536f9c85-db7e-4205-a5f8-502f33e56965",
   "metadata": {},
   "outputs": [],
   "source": []
  }
 ],
 "metadata": {
  "kernelspec": {
   "display_name": "Python 3 (ipykernel)",
   "language": "python",
   "name": "python3"
  },
  "language_info": {
   "codemirror_mode": {
    "name": "ipython",
    "version": 3
   },
   "file_extension": ".py",
   "mimetype": "text/x-python",
   "name": "python",
   "nbconvert_exporter": "python",
   "pygments_lexer": "ipython3",
   "version": "3.10.8"
  }
 },
 "nbformat": 4,
 "nbformat_minor": 5
}
