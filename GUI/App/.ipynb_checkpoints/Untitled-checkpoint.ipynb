{
 "cells": [
  {
   "cell_type": "code",
   "execution_count": 1,
   "id": "312be540-80f7-49f3-87c4-5e95d8253ed6",
   "metadata": {},
   "outputs": [],
   "source": [
    "import pickle"
   ]
  },
  {
   "cell_type": "code",
   "execution_count": 24,
   "id": "4d9d9e59-58bc-4a73-bab4-9ced6ff0dc2c",
   "metadata": {},
   "outputs": [],
   "source": [
    "file = open(\"./EncodeFile.p\", \"rb\")\n",
    "encodeListwithIDs = pickle.load(file)\n",
    "encodeListKnow, IDs = encodeListwithIDs\n",
    "file.close()"
   ]
  },
  {
   "cell_type": "code",
   "execution_count": 11,
   "id": "c4ba3c24-1169-485c-baae-fa2b3c808d4e",
   "metadata": {},
   "outputs": [],
   "source": [
    "encodeListKnow.append(encodeListKnow1)"
   ]
  },
  {
   "cell_type": "code",
   "execution_count": 25,
   "id": "b8d3957b-fe40-4b0e-8c76-42bb3989fae9",
   "metadata": {},
   "outputs": [
    {
     "data": {
      "text/plain": [
       "['Chanyu', 'GilbertStrang']"
      ]
     },
     "execution_count": 25,
     "metadata": {},
     "output_type": "execute_result"
    }
   ],
   "source": [
    "IDs"
   ]
  },
  {
   "cell_type": "code",
   "execution_count": 21,
   "id": "4b631b2b-d51e-411c-a38c-35e9d3046cd8",
   "metadata": {},
   "outputs": [],
   "source": [
    "a = [1, 2]\n",
    "b = [4, 5]"
   ]
  },
  {
   "cell_type": "code",
   "execution_count": 19,
   "id": "bdc70ed1-a31b-4011-ae41-196e246ce25b",
   "metadata": {},
   "outputs": [],
   "source": [
    "a.append(b)"
   ]
  },
  {
   "cell_type": "code",
   "execution_count": 22,
   "id": "36b7a04f-8d90-4019-b041-dd7569d58951",
   "metadata": {},
   "outputs": [
    {
     "data": {
      "text/plain": [
       "[1, 2, 4, 5]"
      ]
     },
     "execution_count": 22,
     "metadata": {},
     "output_type": "execute_result"
    }
   ],
   "source": [
    "a + b"
   ]
  },
  {
   "cell_type": "code",
   "execution_count": null,
   "id": "f9924a00-4d98-4a56-9e13-fbc238fd1452",
   "metadata": {},
   "outputs": [],
   "source": []
  }
 ],
 "metadata": {
  "kernelspec": {
   "display_name": "Python 3 (ipykernel)",
   "language": "python",
   "name": "python3"
  },
  "language_info": {
   "codemirror_mode": {
    "name": "ipython",
    "version": 3
   },
   "file_extension": ".py",
   "mimetype": "text/x-python",
   "name": "python",
   "nbconvert_exporter": "python",
   "pygments_lexer": "ipython3",
   "version": "3.10.8"
  }
 },
 "nbformat": 4,
 "nbformat_minor": 5
}
