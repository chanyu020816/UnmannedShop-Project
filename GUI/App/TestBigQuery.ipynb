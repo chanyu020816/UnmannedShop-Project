{
 "cells": [
  {
   "cell_type": "code",
   "execution_count": 1,
   "id": "e336aa5c-084a-4aa1-8728-c8df8df2fa80",
   "metadata": {},
   "outputs": [],
   "source": [
    "from google.cloud import bigquery\n",
    "from google.oauth2 import service_account\n",
    "\n",
    "\n",
    "# Specify your dataset and table\n",
    "dataset_id = 'unmannedshop'\n",
    "table_id = 'TestUserInfo'\n",
    "credentials = service_account.Credentials.from_service_account_file('./unmannedshop-3444ca55864c.json')\n",
    "\n",
    "client = bigquery.Client(credentials=credentials, project=dataset_id)\n",
    "\n"
   ]
  },
  {
   "cell_type": "code",
   "execution_count": 4,
   "id": "06dadab0-3c41-425f-9121-7c92fdb29a8f",
   "metadata": {},
   "outputs": [
    {
     "name": "stdout",
     "output_type": "stream",
     "text": [
      "The largest user ID is: 4\n"
     ]
    }
   ],
   "source": [
    "# SQL query to find the maximum user ID\n",
    "query = f\"\"\"\n",
    "SELECT MAX(user_id) AS max_user_id\n",
    "FROM `{dataset_id}.{table_id}`\n",
    "\"\"\"\n",
    "\n",
    "# Run the query\n",
    "query_job = client.query(query)\n",
    "\n",
    "# Fetch the result\n",
    "results = query_job.result()\n",
    "\n",
    "# Extract the maximum user ID from the result\n",
    "for row in results:\n",
    "    max_user_id = row.max_user_id\n",
    "\n",
    "print(f\"The largest user ID is: {max_user_id}\")"
   ]
  },
  {
   "cell_type": "code",
   "execution_count": 3,
   "id": "f56d6c43-660c-42ab-bca2-3783d3588efd",
   "metadata": {},
   "outputs": [],
   "source": [
    "new_user_id = 10"
   ]
  },
  {
   "cell_type": "code",
   "execution_count": 4,
   "id": "523dae81-4c58-4713-b1ee-82e06de94a16",
   "metadata": {},
   "outputs": [],
   "source": [
    "query = f\"\"\"\\\n",
    "INSERT INTO unmannedshop.TestUserInfo (user_id, username, email, password) SELECT {new_user_id} AS user_id, 'Test' AS username, 'test' AS email, 'test2' AS password;\\\n",
    "\"\"\""
   ]
  },
  {
   "cell_type": "code",
   "execution_count": 22,
   "id": "0978490e-e754-461b-b9b9-199d3e86a404",
   "metadata": {},
   "outputs": [
    {
     "data": {
      "text/plain": [
       "\"INSERT INTO unmannedshop.TestUserInfo (user_id, username, email, password) SELECT 10 AS user_id, 'Test' AS username, 'test' AS email, 'test2' AS password;\""
      ]
     },
     "execution_count": 22,
     "metadata": {},
     "output_type": "execute_result"
    }
   ],
   "source": [
    "username_input = \"Test\"\n",
    "email_"
   ]
  },
  {
   "cell_type": "code",
   "execution_count": 5,
   "id": "cfd83862-930f-4d1f-84c0-415f622149ad",
   "metadata": {},
   "outputs": [],
   "source": [
    "query_job = client.query(query)"
   ]
  },
  {
   "cell_type": "code",
   "execution_count": 26,
   "id": "fec95080-a422-4b58-ab3f-2417bcc41bc8",
   "metadata": {
    "tags": []
   },
   "outputs": [],
   "source": [
    "create_new_query = f\"\"\"\\\n",
    "INSERT INTO unmannedshop.TestUserInfoFull (user_id, username, email, password, Sex, BirthDate, registration_date) \\\n",
    "SELECT 11 AS user_id, 'Test' AS username, 'Test' AS email,\\\n",
    "'Test' AS password,  'Female' AS Sex, '2002' AS BirthDate, '2023-10-27' AS registration_date;\\\n",
    "\"\"\"\n",
    "\n",
    "#create_new_query_job = client.query(create_new_query)"
   ]
  },
  {
   "cell_type": "code",
   "execution_count": null,
   "id": "8305a188-fd3e-4bff-8638-eb7b40d032ac",
   "metadata": {},
   "outputs": [],
   "source": [
    "create_new_query_job = client.query(create_new_query)"
   ]
  },
  {
   "cell_type": "code",
   "execution_count": 24,
   "id": "08bbf6e8-b053-48c6-94db-1b8d2b9f4aa7",
   "metadata": {},
   "outputs": [],
   "source": [
    "max_query = f\"\"\"\\\n",
    "SELECT MAX(user_id) AS max_user_id \\\n",
    "FROM unmannedshop.TestUserInfo \\\n",
    "\"\"\"\n",
    "\n",
    "max_query_job = client.query(max_query)\n",
    "max_results = max_query_job.result()"
   ]
  },
  {
   "cell_type": "code",
   "execution_count": 25,
   "id": "57827a19-d7d3-4474-9849-8804d6ae7f92",
   "metadata": {},
   "outputs": [],
   "source": [
    "for row in max_results:\n",
    "    max_user_id = row.max_user_id"
   ]
  },
  {
   "cell_type": "code",
   "execution_count": 27,
   "id": "00069b69-f650-4f3c-9fcb-67454079c263",
   "metadata": {},
   "outputs": [
    {
     "data": {
      "text/plain": [
       "\"INSERT INTO unmannedshop.TestUserInfoFull (user_id, username, email, password, Sex, BirthDate, registration_date) SELECT 11 AS user_id, 'Test' AS username, 'Test' AS email,'Test' AS password,  'Female' AS Sex, '2002' AS BirthDate, '2023-10-27' AS registration_date;\""
      ]
     },
     "execution_count": 27,
     "metadata": {},
     "output_type": "execute_result"
    }
   ],
   "source": [
    "create_new_query"
   ]
  },
  {
   "cell_type": "code",
   "execution_count": 27,
   "id": "7e6e72ac-8d65-4af6-9ebe-3bce74be08ec",
   "metadata": {},
   "outputs": [],
   "source": [
    "import time"
   ]
  },
  {
   "cell_type": "code",
   "execution_count": 33,
   "id": "4b580a09-2300-4a88-a7de-cd6393698414",
   "metadata": {},
   "outputs": [],
   "source": [
    "import datetime\n",
    "\n",
    "# Get the current date and time\n",
    "current_datetime = datetime.datetime.now().date()"
   ]
  },
  {
   "cell_type": "code",
   "execution_count": 34,
   "id": "67496c85-4b5a-425b-ab48-e0504a2c316b",
   "metadata": {},
   "outputs": [
    {
     "data": {
      "text/plain": [
       "datetime.date(2023, 10, 26)"
      ]
     },
     "execution_count": 34,
     "metadata": {},
     "output_type": "execute_result"
    }
   ],
   "source": [
    "current_datetime"
   ]
  },
  {
   "cell_type": "code",
   "execution_count": null,
   "id": "56b30ba5-dd0f-4c2d-9cec-172e702a6fa0",
   "metadata": {},
   "outputs": [],
   "source": []
  }
 ],
 "metadata": {
  "kernelspec": {
   "display_name": "Python 3 (ipykernel)",
   "language": "python",
   "name": "python3"
  },
  "language_info": {
   "codemirror_mode": {
    "name": "ipython",
    "version": 3
   },
   "file_extension": ".py",
   "mimetype": "text/x-python",
   "name": "python",
   "nbconvert_exporter": "python",
   "pygments_lexer": "ipython3",
   "version": "3.10.8"
  }
 },
 "nbformat": 4,
 "nbformat_minor": 5
}
